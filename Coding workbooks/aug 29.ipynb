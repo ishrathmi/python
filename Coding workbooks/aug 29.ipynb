{
 "cells": [
  {
   "cell_type": "code",
   "execution_count": 3,
   "metadata": {},
   "outputs": [
    {
     "name": "stdout",
     "output_type": "stream",
     "text": [
      "we are in the 21st century!\n"
     ]
    }
   ],
   "source": [
    "year = 2024\n",
    "\n",
    "if year >=2000:\n",
    "    print('we are in the 21st century!')"
   ]
  },
  {
   "cell_type": "code",
   "execution_count": 4,
   "metadata": {},
   "outputs": [
    {
     "name": "stdout",
     "output_type": "stream",
     "text": [
      "we aint in teh 21st century quite yet\n"
     ]
    }
   ],
   "source": [
    "year = 1990\n",
    "\n",
    "if year >= 2000:\n",
    "    print('we are in the 21st century!')\n",
    "else: print ('we aint in teh 21st century quite yet')"
   ]
  },
  {
   "cell_type": "code",
   "execution_count": 5,
   "metadata": {},
   "outputs": [],
   "source": [
    "#else and elif always needs to be paired with an if statement\n",
    "#but if statements can be standalone"
   ]
  },
  {
   "cell_type": "code",
   "execution_count": 9,
   "metadata": {},
   "outputs": [
    {
     "name": "stdout",
     "output_type": "stream",
     "text": [
      "bruv you in the 18th century man\n"
     ]
    }
   ],
   "source": [
    "year = 1740\n",
    "\n",
    "if year >= 2000:\n",
    "    print ('its the 21st century')\n",
    "elif year>= 1900:\n",
    "    print('tis the 20 century')\n",
    "elif year >= 1800:\n",
    "    print ('maam youre in the 19th century')\n",
    "elif year >= 1700:\n",
    "    print ('bruv you in the 18th century man')\n",
    "else: print ('you\\'re wayyyyyy back in time')"
   ]
  },
  {
   "cell_type": "code",
   "execution_count": 10,
   "metadata": {},
   "outputs": [
    {
     "name": "stdout",
     "output_type": "stream",
     "text": [
      "tis the weekend homie\n"
     ]
    }
   ],
   "source": [
    "day_of_week = 'Saturday'\n",
    "\n",
    "if day_of_week == 'Saturday' or day_of_week == 'Sunday':\n",
    "    print('tis the weekend homie')\n",
    "else: print ('lol its a weekday soz')"
   ]
  },
  {
   "cell_type": "code",
   "execution_count": 21,
   "metadata": {},
   "outputs": [],
   "source": [
    "def eye_exam_covered (age, qualifyingcondition, time_since_lastexam):\n",
    "    if age <= 19:\n",
    "        if time_since_lastexam >=12:\n",
    "            return \"you are eligible for one major eye exam and minor assessments\"\n",
    "        else: return \"it has not been 12 months since your last exam\"\n",
    "    elif 19 < age <= 64:\n",
    "        if qualifyingcondition == True:\n",
    "            if time_since_lastexam >= 12:\n",
    "                print (' you are eligible for 1 major eye exame and 2 additional follow ups')\n",
    "            else: return 'You are not eligible for any eye exams'\n",
    "        else: return ' You do not have any qualifying medical conditions'\n",
    "    elif age >= 65:\n",
    "        if time_since_lastexam >=18:\n",
    "            return \"you are eligible for 1 major eyes exame and 2 additional follow ups\"\n",
    "        else: return \"It has not been 18 months since your last assessment\"\n",
    "    else: return \"Invalid age input!\""
   ]
  },
  {
   "cell_type": "code",
   "execution_count": 13,
   "metadata": {},
   "outputs": [
    {
     "data": {
      "text/plain": [
       "'it has not been 12 months since your last exam'"
      ]
     },
     "execution_count": 13,
     "metadata": {},
     "output_type": "execute_result"
    }
   ],
   "source": [
    "eye_exam_covered(19, 12, 2)"
   ]
  },
  {
   "cell_type": "code",
   "execution_count": 17,
   "metadata": {},
   "outputs": [
    {
     "data": {
      "text/plain": [
       "'You are not eligible for any eye exams'"
      ]
     },
     "execution_count": 17,
     "metadata": {},
     "output_type": "execute_result"
    }
   ],
   "source": [
    "eye_exam_covered (27, True, 1)"
   ]
  },
  {
   "cell_type": "code",
   "execution_count": 22,
   "metadata": {},
   "outputs": [
    {
     "data": {
      "text/plain": [
       "'you are eligible for 1 major eyes exame and 2 additional follow ups'"
      ]
     },
     "execution_count": 22,
     "metadata": {},
     "output_type": "execute_result"
    }
   ],
   "source": [
    "eye_exam_covered (69, False, 21)"
   ]
  },
  {
   "cell_type": "code",
   "execution_count": null,
   "metadata": {},
   "outputs": [],
   "source": []
  }
 ],
 "metadata": {
  "kernelspec": {
   "display_name": "dsi_participant",
   "language": "python",
   "name": "python3"
  },
  "language_info": {
   "codemirror_mode": {
    "name": "ipython",
    "version": 3
   },
   "file_extension": ".py",
   "mimetype": "text/x-python",
   "name": "python",
   "nbconvert_exporter": "python",
   "pygments_lexer": "ipython3",
   "version": "3.9.18"
  }
 },
 "nbformat": 4,
 "nbformat_minor": 2
}
