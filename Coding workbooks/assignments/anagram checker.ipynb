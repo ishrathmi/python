{
 "cells": [
  {
   "cell_type": "code",
   "execution_count": 1,
   "metadata": {},
   "outputs": [
    {
     "data": {
      "text/plain": [
       "True"
      ]
     },
     "execution_count": 1,
     "metadata": {},
     "output_type": "execute_result"
    }
   ],
   "source": [
    "# anagram checker \n",
    "\n",
    "# Anagram Checker function\n",
    "\n",
    "def are_anagrams(str1, str2):\n",
    "    # Clean strings by removing spaces and converting to lower case\n",
    "    cleaned_str1 = ''.join(sorted(str1.replace(\" \", \"\").lower()))\n",
    "    cleaned_str2 = ''.join(sorted(str2.replace(\" \", \"\").lower()))\n",
    "\n",
    "    # Check if sorted versions of both strings are equal\n",
    "    return cleaned_str1 == cleaned_str2\n",
    "\n",
    "# Testing the function\n",
    "test_str1 = \"Listen\"\n",
    "test_str2 = \"Silent\"\n",
    "are_anagrams(test_str1, test_str2)\n",
    "\n"
   ]
  },
  {
   "cell_type": "code",
   "execution_count": null,
   "metadata": {},
   "outputs": [],
   "source": []
  }
 ],
 "metadata": {
  "kernelspec": {
   "display_name": "dsi_participant",
   "language": "python",
   "name": "python3"
  },
  "language_info": {
   "codemirror_mode": {
    "name": "ipython",
    "version": 3
   },
   "file_extension": ".py",
   "mimetype": "text/x-python",
   "name": "python",
   "nbconvert_exporter": "python",
   "pygments_lexer": "ipython3",
   "version": "3.9.18"
  }
 },
 "nbformat": 4,
 "nbformat_minor": 2
}
